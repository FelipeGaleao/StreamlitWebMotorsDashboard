{
 "metadata": {
  "language_info": {
   "codemirror_mode": {
    "name": "ipython",
    "version": 3
   },
   "file_extension": ".py",
   "mimetype": "text/x-python",
   "name": "python",
   "nbconvert_exporter": "python",
   "pygments_lexer": "ipython3",
   "version": "3.8.5"
  },
  "orig_nbformat": 2,
  "kernelspec": {
   "name": "python385jvsc74a57bd080df4573815e2fbc1434c8f9d7234411ca19ec91ea5669cedcae75f03f5659be",
   "display_name": "Python 3.8.5 64-bit ('base': conda)"
  }
 },
 "nbformat": 4,
 "nbformat_minor": 2,
 "cells": [
  {
   "cell_type": "code",
   "execution_count": 4,
   "metadata": {},
   "outputs": [],
   "source": [
    "import requests\n",
    "import pandas \n",
    "import numpy \n",
    "import json\n",
    "import streamlit as st "
   ]
  },
  {
   "cell_type": "code",
   "execution_count": 5,
   "metadata": {
    "tags": []
   },
   "outputs": [
    {
     "output_type": "stream",
     "name": "stderr",
     "text": [
      "2021-05-19 22:49:09.533 INFO    numexpr.utils: NumExpr defaulting to 4 threads.\n",
      "Ocorreu um erro na página 1\n"
     ]
    }
   ],
   "source": [
    "def json_to_series(text):\n",
    "    keys, values = zip(*[(dct['label'], dct['value']) for dct in json.loads(text)])\n",
    "    return pd.Series(values, index=keys)\n",
    "\n",
    "\n",
    "index = 1\n",
    "req_total = []\n",
    "df_final = pandas.DataFrame()\n",
    "while index < 2:\n",
    "    req_veiculos = requests.get(\"https://www.webmotors.com.br/api/search/car?url=https://www.webmotors.com.br/carros%2Fms%3Fanunciante%3DConcession%25C3%25A1ria%257CLoja%26estadocidade%3DMato%2520Grosso%2520do%2520Sul\", params=\"actualPage=\" + str(index))\n",
    "    req_veiculos = json.loads(req_veiculos.text)\n",
    "    try:\n",
    "        req_veiculos = req_veiculos['SearchResults']\n",
    "        json_str = json.dumps(req_veiculos)\n",
    "        veiculos = pandas.read_json(json_str)\n",
    "\n",
    "        tabela_especificacoes = pandas.json_normalize(veiculos['Specification'])\n",
    "        veiculos = veiculos.join(other= tabela_especificacoes)\n",
    "\n",
    "        tabela_precos = pandas.json_normalize(veiculos['Prices'])\n",
    "        veiculos = veiculos.join(other= tabela_precos)\n",
    "\n",
    "        tabela_vendedor = pandas.json_normalize(veiculos['Seller'])\n",
    "        veiculos = veiculos.join(other= tabela_vendedor)\n",
    "\n",
    "            # tabela_atributos = pandas.json_normalize(veiculos['VehicleAttributes'])\n",
    "            # veiculos = veiculos.join(other= tabela_atributos)\n",
    "        try:\n",
    "            veiculos = veiculos.drop(columns=['Prices', 'HotDeal', 'Channels', 'VehicleAttributes', 'Media', 'Specification', 'Seller'])\n",
    "            df_final = df_final.append(veiculos, ignore_index=True)\n",
    "            print(\"Capturado página .... {}\".format(index))\n",
    "        except:\n",
    "            print(f\"Ocorreu um erro na página {index}\")\n",
    "    except:\n",
    "        print(f\"Ocorreu um erro na página {index}\")\n",
    "    index +=1\n",
    "    \n",
    "df_final.to_csv('teste2.csv', encoding=\"utf8\")"
   ]
  },
  {
   "cell_type": "code",
   "execution_count": 6,
   "metadata": {},
   "outputs": [],
   "source": [
    "#df_final.to_csv('teste2.csv', encoding=\"utf8\")"
   ]
  },
  {
   "cell_type": "code",
   "execution_count": 69,
   "metadata": {},
   "outputs": [
    {
     "output_type": "execute_result",
     "data": {
      "text/plain": [
       "DeltaGenerator(_root_container=0, _provided_cursor=None, _parent=None, _block_type=None, _form_data=None)"
      ]
     },
     "metadata": {},
     "execution_count": 69
    }
   ],
   "source": [
    "qtdVeiculosMarca = veiculos[['UniqueId', 'Make.Value', 'UniqueId']].groupby(by = veiculos['Make.Value'], as_index=True).agg('count')\n",
    "qtdVeiculosMarca = qtdVeiculosMarca.drop(columns={'UniqueId'})\n",
    "qtdVeiculosMarca = qtdVeiculosMarca.rename(columns={'Make.Value': 'Quantidade'})\n",
    "st.dataframe(qtdVeiculosMarca)\n"
   ]
  },
  {
   "cell_type": "code",
   "execution_count": null,
   "metadata": {},
   "outputs": [],
   "source": []
  }
 ]
}